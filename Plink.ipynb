{
 "cells": [
  {
   "cell_type": "markdown",
   "metadata": {},
   "source": [
    "# Plink 1.07\n",
    "* https://mopipe.tistory.com/24?category=820817 참고"
   ]
  },
  {
   "cell_type": "markdown",
   "metadata": {},
   "source": [
    "* tutorial \n",
    "01. getting started\n",
    "* plink --file hapmap1 # 해당하는 파일에 대한 대략적인 summary를 나타냄\n",
    " -> hapmap1.ped  hapmap1.map 이 필요함 \n",
    " -> plink --vcf @file --out @filename --recode (ped,map 생성)\n",
    " -> plink --vcf @file --out @filename --make-bed ( bim, bed, fam 형성)\n",
    "* ped file = genotype information\n",
    "  map = name, position, marker등의 메타 데이터를 가짐\n",
    "* log 확인을 통하여 각각의 데이터의 구성을 알 수 있음"
   ]
  },
  {
   "cell_type": "code",
   "execution_count": null,
   "metadata": {},
   "outputs": [],
   "source": [
    "## making a binary PED file (용량을 위하여 이진 파일로 시행)\n",
    "plink --file hapmap1 --make-bed --out hapmap1 #bim, bed, fam파일을 형성\n",
    "\n",
    "\n",
    "## binary PED file 이용하여 summary시행 (위의 --file과 비슷)\n",
    "plink --bfile hapmap1 \n",
    "\n",
    "## missin data에 대한 summary를 얻기 (없는 것을 의미)\n",
    "plink --bfile hapmap1 --missing --out miss_stat\n",
    "# miss_stat.imiss = individual missingness information 개인별 분석 결과\n",
    "# miss_stat.lmiss = locus missingness information snp별 분석 결과\n",
    "\n",
    "## allele frequency계산\n",
    "plink --bfile hapmap1 --freq --out freq_stat\n",
    "# freq_stat.frq의 allele frequency계산\n",
    "# CLST의 컬럼의 경우 인종별 존재하는 pop.phe file중 일본,중국중 어디에 포함이 되는지 나타낸다.\n",
    "plink --bfile hapmap1 --snp rs1891905 --freq --within pop.phe --out snp1 frq stat\n",
    "# 특정 snp가 인종별로 어떻게 나타나는지 확인"
   ]
  },
  {
   "cell_type": "code",
   "execution_count": null,
   "metadata": {},
   "outputs": [],
   "source": [
    "## basic association analysis \n",
    "plink --bfile hapmap1 --assoc --out as1\n",
    "# snp, A1은 적은 allele, F_A : case에서 비율, F_U : control에서 비율\n",
    "\n",
    "## p-value를 기준으로 가장 최상의 값들만 추출을 시행(리눅스 언어)\n",
    "sort --key=7 -nr as1.assoc | head \n",
    "\n",
    "## hypothesis 검정을 시행 (FDR)\n",
    "plink --bfile hapmap1 --assoc --adjust --out as2 \n",
    "# allele frequency가 비슷해도 위의 데이터에서 유의하게 나오는 경우가 존재함 \n",
    "# as2.assoc.adjusted에 저장되어 짐\n",
    "# bonferroni, FDR, GC(inflation factor)등 모두 계산을 시행한 값이 나옴~!!~\n",
    "# log data에 관련되어진 inflation factor와 chi squared value 존재\n",
    "plink --bfile hapmap1 --pheno pop.phe --assoc --adjust --out as3\n",
    "# 이미 인구집단과 관련되어진 자료가 존재 할 시 보정 가능"
   ]
  },
  {
   "cell_type": "code",
   "execution_count": null,
   "metadata": {},
   "outputs": [],
   "source": [
    "https://doc.goldenhelix.com/SVS/latest/svsmanual/genotype_association_tests.html \n",
    "각각의 모델에 대한 설명이 존재함    \n",
    "    \n",
    "## Genotypic and other association models\n",
    "plink --bfile hapmap1 --model --snp rs2222162 --out mod1\n",
    "# 관련되어진 snp을 찾았으면 이제 경향성을 파악하기 위하여 cochrane -armitage test를 시행한다. \n",
    "# 2x3데이터 테이블을 가지고 분석을 진행 \n",
    "# dominant, recessive 의 경우 모두 분석이 가능함\n",
    "\n",
    "### 결과는 각각의 test에 따른 결과를 나타낸다.\n",
    "#genotypic test/ basic allelic/ cochrean / dominant/ recessive \n",
    "plink --bfile hapmap1 --model --cell 0 --snp rs2222162 --out mod2\n",
    "# 위의 --cell의 옵션이 존재하지 않을 시 genotypic 분석이 되지 않음 (5개 이상으로만 시행이 되어서 )"
   ]
  },
  {
   "cell_type": "code",
   "execution_count": null,
   "metadata": {},
   "outputs": [],
   "source": [
    "## stratification analysis\n",
    "# sample들 간의 연관성이 존재하기 때문에 이를 파악하여 그룹화를 시행 가능함\n",
    "plink --bfile hapmap1 --cluster --mc 2 --ppc 0.05 --out str1\n",
    "# --mc 2명이상 군집화를 하지 않으며 0.05이하의 유의성을 가지는 개인으로 군집활르ㅜ 시행"
   ]
  },
  {
   "cell_type": "code",
   "execution_count": null,
   "metadata": {},
   "outputs": [],
   "source": [
    "## association analysis, accounting for clusters\n",
    "# cochran-mantel-Haenszel association statistic을 사용하여 진행\n",
    "plink --bfile hapmap1 --mh --within str1.cluster2 --adjust --out aac1"
   ]
  },
  {
   "cell_type": "code",
   "execution_count": null,
   "metadata": {},
   "outputs": [],
   "source": [
    "## pc의 필터링을 적게해서 시행 (version.cluster1생성)\n",
    "# specify the threshold of 0.01로 잡음\n",
    "# --cc 옵션도 추가되어짐\n",
    "plink --bfile hapmap1 --cluster --cc --ppc 0.01 --out version2\n",
    "plink --bfile hapmap1 --mh --within version2.cluster2 --adjust --out aac2  # 유의한 결과가 발생함 (acc2.cmh.adjusted)"
   ]
  },
  {
   "cell_type": "markdown",
   "metadata": {},
   "source": [
    "## p.35번 부터 시작해"
   ]
  }
 ],
 "metadata": {
  "kernelspec": {
   "display_name": "Python 3",
   "language": "python",
   "name": "python3"
  },
  "language_info": {
   "codemirror_mode": {
    "name": "ipython",
    "version": 3
   },
   "file_extension": ".py",
   "mimetype": "text/x-python",
   "name": "python",
   "nbconvert_exporter": "python",
   "pygments_lexer": "ipython3",
   "version": "3.8.5"
  }
 },
 "nbformat": 4,
 "nbformat_minor": 4
}
