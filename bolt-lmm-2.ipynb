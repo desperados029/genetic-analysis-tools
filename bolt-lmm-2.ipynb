{
 "cells": [
  {
   "cell_type": "markdown",
   "metadata": {},
   "source": [
    "# Overview\n",
    "* bolt-lmm의 경우 5000명 이상의 샘플을 분석할 시 사용 해라\n",
    "* 5000명보다 적을시 GCTA나 GEMMA를 이용해라\n",
    "* case와 control이 balanced되어 있어야지 유용(unbalanced되어 있으면 SAIGE이용)\n"
   ]
  },
  {
   "cell_type": "markdown",
   "metadata": {},
   "source": [
    "##  해당하는 프로그램을 진행하는 코드(minimal)\n",
    "* run_example.sh - bolt-lmm\n",
    "* ren_example_reml2.sh - bolt-reml \n",
    "<기본형태>\n",
    "./bolt --bfile=geno --phenoFile=pheno.txt --phenoCol=phenoName\n",
    "--lmm --LDscoresFile=tables/LDSCORE.1000G_EUR.tab.gz\n",
    "--statsFile=stats.tab\n",
    "\n",
    "<기본형태>\n",
    "./bolt --bfile=geno --phenoFile=pheno.txt --phenoCol=phenoName\n",
    "--reml --modelSnps=modelSnps.txt\n"
   ]
  },
  {
   "cell_type": "code",
   "execution_count": null,
   "metadata": {},
   "outputs": [],
   "source": [
    "-bfile=EUR_subset \\  # input data는 plink를 통해 나온 bed/bim/fam file 이용\n",
    "    # 여러개의 bim file이 존재할 시 (염색체 별로) --bim=data.chr{1:22}.bim 이용\n",
    "<임의 사용자 지정 설정>\n",
    "    --remove=EUR_subset.remove \\ #사용자 정의로 제외하거나 제거 할 리스트를 넣을 수 있음\n",
    "    --exclude=EUR_subset.exclude \\\n",
    "    --exclude=EUR_subset.exclude2 \\\n",
    "\n",
    "<input data설정>\n",
    "    --phenoFile=EUR_subset.pheno2.covars \\ # phenotype이 따로 파일로서 존재할 시\n",
    "    # first two column은 FID, IID이여야 한다.\n",
    "    # fam 파일 가장 마지막 컬럼 일시에는 --phenoUseFam 을 사용하여 시행 (numeric 1,0,-9)\n",
    "    --phenoCol=PHENO \\ #위의 pheno file중 phenotype이 정의 되어 있는 column을 의미\n",
    "    --covarFile=EUR_subset.pheno2.covars \\ #pc들을 추출하ll\n",
    "    여 분석하는 것이 매우 효과적!!!!!!!!!!!!!!!!!\n",
    "    --covarCol=CAT_COV \\ # categorical covariates -> 10개이상이면 불가\n",
    "    --qCovarCol=QCOV{1:2} \\ #quantitative covariates -> 모두 숫자여야 함\n",
    "\n",
    "<association 분석>\n",
    "    # 두가지의 통계적인 방법이 존재 함(bolt-lmm(non-infinitesimal) -inf(infinitesimal))\n",
    "    --lmm \\ # perform default(BOLT-LMM)\n",
    "    --LDscoresFile=../tables/LDSCORE.1000G_EUR.tab.gz \\\n",
    "    # non-European일시 LDSC를 이용하여 계산을 시행해야 한다. (PLINK에서 matching을 시행해줌)\n",
    "    --modelSnps=EUR_subset.modelSnps # random effect설정ㅎ줄시\n",
    "    --numThreads=2 \n",
    "\n",
    "#QC 에서 missing rate가 0.1이상인것은 무시 / missing data 도 무시\n",
    "# hardy에 의해서 필터링을 하지 않기에 plink --hardy를 이용하여 확인을 해봐라~\n",
    "\n",
    "-----------------------------------------------------------여기서 부터는 부수적인 분석----------\n",
    "    --statsFile=example.stats \\\n",
    "    --dosageFile=EUR_subset.dosage.chr17first100 \\\n",
    "    --dosageFile=EUR_subset.dosage.chr22last100.gz \\\n",
    "    --dosageFidIidFile=EUR_subset.dosage.indivs \\\n",
    "    --statsFileDosageSnps=example.dosageSnps.stats \\\n",
    "    --impute2FileList=EUR_subset.impute2FileList.txt \\\n",
    "    --impute2FidIidFile=EUR_subset.impute2.indivs \\\n",
    "    --statsFileImpute2Snps=example.impute2Snps.stats \\\n",
    "    --dosage2FileList=EUR_subset.dosage2FileList.txt \\\n",
    "    --statsFileDosage2Snps=example.dosage2Snps.stats \\\n",
    "    2>&1 | tee example.log # log output written to stdout and stderr\n",
    "\n",
    "# basic args:\n",
    "# --bfile: prefix of PLINK genotype files (bed/bim/fam)\n",
    "# --remove: list of individuals to remove (FID IID)\n",
    "# --exclude: list of SNPs to exclude (rs###)\n",
    "# --phenoFile: phenotype file\n",
    "# --phenoCol: column of phenotype file containing phenotypes\n",
    "# --covarFile: covariate file\n",
    "# --covarCol: column(s) containing categorical covariate (multiple ok)\n",
    "# --qCovarCol: column(s) containing quantitative covariates (array format)\n",
    "# --modelSnps: subset of SNPs to use in GRMs\n",
    "# --lmm: flag to perform default BOLT-LMM mixed model association\n",
    "# --LDscoresFile: reference LD Scores (data table in separate download)\n",
    "# --numThreads: multi-threaded execution\n"
   ]
  },
  {
   "cell_type": "code",
   "execution_count": null,
   "metadata": {},
   "outputs": [],
   "source": [
    "# reml을 사용하여 heritability 와 gene correlation을 계산 할 수 있음\n",
    "# variance components란 random variable 분석을 의미\n",
    "\n",
    "../bolt \\\n",
    "    --bfile=EUR_subset \\\n",
    "    --phenoFile=EUR_subset.pheno2.covars \\\n",
    "    --exclude=EUR_subset.exclude2 \\\n",
    "    --phenoCol=PHENO \\\n",
    "    --phenoCol=QCOV1 \\\n",
    "    --modelSnps=EUR_subset.modelSnps2 \\\n",
    "    --reml \\\n",
    "    --numThreads=2 \\\n",
    "    2>&1 | tee example_reml2.log # log output written to stdout and stderr\n",
    "\n",
    "### NOTE: This example just demonstrates parameter usage.\n",
    "###       The algorithm is not robust with so few samples; we recommend N>5000.\n",
    "\n",
    "# --bfile: prefix of PLINK genotype files (bed/bim/fam)\n",
    "# --phenoFile: phenotype file\n",
    "# --phenoCol: column(s) of phenotype file containing phenotypes\n",
    "# --modelSnps: subset of SNPs to use in GRMs\n",
    "# --reml: flag to perform default BOLT-REML variance components analysis\n",
    "# --numThreads: multi-threaded execution"
   ]
  },
  {
   "cell_type": "markdown",
   "metadata": {},
   "source": [
    "## BOLT-LMM association test statistics output\n",
    "* statsFile에 존재함\n",
    "\u000f SNP: rs number or ID string #snp\n",
    "\u000f CHR: 유전자\n",
    "\u000f BP: physical (base pair) position\n",
    "\u000f GENPOS: genetic position either from bim file or interpolated from genetic map\n",
    "\u000f ALLELE1: first allele in bim file (usually the minor allele), used as the effect allele\n",
    "16\n",
    "\u000f ALLELE0: second allele in bim file, used as the reference allele\n",
    "\u000f A1FREQ: frequency of first allele\n",
    "\u000f F_MISS: fraction of individuals with missing genotype at this SNP\n",
    "\u000f BETA: effect size from BOLT-LMM approximation to infinitesimal mixed model (effect size)\n",
    "\u000f SE: standard error of effect size  \n",
    "\u000f P_BOLT_LMM_INF: infinitesimal mixed model association test p-value\n",
    "\u000f P_BOLT_LMM: non-infinitesimal mixed model association test p-value\n",
    "\n",
    "### bolt-REML\n",
    "* terminal 마지막 부분에 나타남\n",
    "* 모두 두가지의 경우 proceeds 되어져서 발생함, output을 저장할 시 아래와 같은 명령어를 사용함\n",
    "./bolt [... list of options ...] 2>&1 | tee output.log"
   ]
  },
  {
   "cell_type": "markdown",
   "metadata": {},
   "source": [
    "# UK biobank 분석 예제"
   ]
  },
  {
   "cell_type": "markdown",
   "metadata": {},
   "source": [
    "* 8+thread를 사용하여 분석을 진행\n",
    "* PCA를 이용하여 cost를 줄일 수 있음 (speed up!)\n",
    "* using plink2 --pca approx or EIGENSOFT v6.0+ fastmode\n",
    "* 6번쨰 column에 numeric 형태의 fam file이 필요함"
   ]
  },
  {
   "cell_type": "code",
   "execution_count": 1,
   "metadata": {},
   "outputs": [
    {
     "ename": "SyntaxError",
     "evalue": "invalid syntax (<ipython-input-1-ce533238a2fe>, line 1)",
     "output_type": "error",
     "traceback": [
      "\u001b[0;36m  File \u001b[0;32m\"<ipython-input-1-ce533238a2fe>\"\u001b[0;36m, line \u001b[0;32m1\u001b[0m\n\u001b[0;31m    ./bolt \\\u001b[0m\n\u001b[0m    ^\u001b[0m\n\u001b[0;31mSyntaxError\u001b[0m\u001b[0;31m:\u001b[0m invalid syntax\n"
     ]
    }
   ],
   "source": [
    "./bolt \\\n",
    "--bed=ukb_cal_chr{1:22}_v2.bed \\\n",
    "--bim=ukb_snp_chr{1:22}_v2.bim \\\n",
    "--fam=ukb1404_cal_chr1_v2_CURRENT.fixCol6.fam \\\n",
    "--remove=bolt.in_plink_but_not_imputed.FID_IID.976.txt \\\n",
    "--remove=sampleQC/remove.nonWhite.FID_IID.txt \\\n",
    "--exclude=snpQC/autosome_maf_lt_0.001.txt \\\n",
    "--exclude=snpQC/autosome_missing_gt_0.1.txt \\\n",
    "--phenoFile=ukb4777.phenotypes.tab \\\n",
    "--phenoCol=height \\\n",
    "--covarFile=ukb4777.covars.tab.gz \\\n",
    "--covarCol=cov_ASSESS_CENTER \\\n",
    "--covarCol=cov_GENO_ARRAY \\\n",
    "--covarMaxLevels=30 \\\n",
    "--qCovarCol=cov_AGE \\\n",
    "--qCovarCol=cov_AGE_SQ \\\n",
    "--qCovarCol=PC{1:20} \\\n",
    "--LDscoresFile=tables/LDSCORE.1000G_EUR.tab.gz \\\n",
    "--geneticMapFile=tables/genetic_map_hg19.txt.gz \\\n",
    "--lmmForceNonInf \\\n",
    "--numThreads=8 \\\n",
    "--statsFile=bolt_460K_selfRepWhite.height.stats.gz \\\n",
    "--bgenFile=ukb_imp_chr{1:22}_v2.bgen \\\n",
    "--bgenMinMAF=1e-3 \\\n",
    "--bgenMinINFO=0.3 \\\n",
    "--sampleFile=ukb1404_imp_chr1_v2_s487406.sample \\\n",
    "--statsFileBgenSnps=bolt_460K_selfRepWhite.height.bgen.stats.gz --verboseStats"
   ]
  },
  {
   "cell_type": "markdown",
   "metadata": {},
   "source": [
    "## case control 분석 시 중요한 점\n",
    "* 3가지의 주요한 parameter이 존재함\n",
    "< sample size, minor allele frequency, and case-control ratio >\n",
    "\n",
    "* case의 비율이 최소한 10%이며 MAF > 0.1% 일시 효과적임 -> case가 더 적을 시에는 SAIGE이용해야 한다."
   ]
  }
 ],
 "metadata": {
  "kernelspec": {
   "display_name": "Python 3",
   "language": "python",
   "name": "python3"
  },
  "language_info": {
   "codemirror_mode": {
    "name": "ipython",
    "version": 3
   },
   "file_extension": ".py",
   "mimetype": "text/x-python",
   "name": "python",
   "nbconvert_exporter": "python",
   "pygments_lexer": "ipython3",
   "version": "3.8.5"
  }
 },
 "nbformat": 4,
 "nbformat_minor": 4
}
